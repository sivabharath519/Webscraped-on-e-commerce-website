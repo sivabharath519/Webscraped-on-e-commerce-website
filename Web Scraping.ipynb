{
 "cells": [
  {
   "cell_type": "markdown",
   "metadata": {},
   "source": [
    "# Web Scraping Project\n",
    "#### Scraped on E-commerce website [FLIPKART]\n",
    "- Below is the process of how to webscrape the data from flipkart with the help of BeautifulSoup and regular expression "
   ]
  },
  {
   "cell_type": "code",
   "execution_count": 1,
   "metadata": {},
   "outputs": [],
   "source": [
    "import pandas as pd\n",
    "import bs4\n",
    "from bs4 import BeautifulSoup as soup\n",
    "import re\n",
    "import requests\n",
    "from urllib.request import urlopen as req #urllib is a package\n",
    "# urlopen is function"
   ]
  },
  {
   "cell_type": "code",
   "execution_count": 2,
   "metadata": {},
   "outputs": [],
   "source": [
    "my_url = \"https://www.flipkart.com/search?q=samsung+mobiles&as=on&as-show=on&otracker=AS_Query_HistoryAutoSuggest_0_5&otracker1=AS_Query_HistoryAutoSuggest_0_5&as-pos=0&as-type=HISTORY&suggestionId=samsung+mobiles&requestId=646d2025-2533-420a-9d1a-1ff900629604%22&page=3\"\n",
    "\n",
    "    #url =  \"https://www.flipkart.com/search?q=samsung+mobiles&as=on&as-show=on&otracker=AS_Query_HistoryAutoSuggest_0_3_na_na_na&otracker1=AS_Query_HistoryAutoSuggest_0_3_na_na_na&as-pos=0&as-type=HISTORY&suggestionId=samsung+mobiles&requestId=2f745bb9-260d-4fb0-9c36-afc2d5096850&page=\"+str(page)\n",
    "    #r = requests.get(url)\n",
    "    #page_html = soup(r.text, 'html.parser')\n",
    "    #print(page_html)"
   ]
  },
  {
   "cell_type": "code",
   "execution_count": 3,
   "metadata": {},
   "outputs": [],
   "source": [
    "load = req(my_url) #req helps for connnection and takes the website and loaded\n",
    "page_html= load.read() #read the data\n",
    "load.close()    # close the connection"
   ]
  },
  {
   "cell_type": "code",
   "execution_count": 4,
   "metadata": {},
   "outputs": [],
   "source": [
    "page_soup = soup(page_html,'html.parser')   #large html file we use html.parser"
   ]
  },
  {
   "cell_type": "code",
   "execution_count": 5,
   "metadata": {},
   "outputs": [],
   "source": [
    "containers = page_soup.findAll(\"div\", { \"class\": \"_3wU53n\"})"
   ]
  },
  {
   "cell_type": "code",
   "execution_count": 6,
   "metadata": {},
   "outputs": [],
   "source": [
    "#containers"
   ]
  },
  {
   "cell_type": "code",
   "execution_count": 7,
   "metadata": {},
   "outputs": [],
   "source": [
    "price = page_soup.findAll(\"div\",class_ =\"_1vC4OE _2rQ-NK\" )"
   ]
  },
  {
   "cell_type": "code",
   "execution_count": 8,
   "metadata": {},
   "outputs": [],
   "source": [
    "#price"
   ]
  },
  {
   "cell_type": "code",
   "execution_count": 12,
   "metadata": {},
   "outputs": [],
   "source": [
    "ram = page_soup.findAll(\"div\",class_ = \"_3ULzGw\")"
   ]
  },
  {
   "cell_type": "code",
   "execution_count": 13,
   "metadata": {
    "scrolled": true
   },
   "outputs": [],
   "source": [
    "#ram"
   ]
  },
  {
   "cell_type": "code",
   "execution_count": 14,
   "metadata": {},
   "outputs": [],
   "source": [
    "rom = page_soup.findAll(\"div\",class_ = \"_3ULzGw\")"
   ]
  },
  {
   "cell_type": "code",
   "execution_count": 15,
   "metadata": {},
   "outputs": [],
   "source": [
    "#rom"
   ]
  },
  {
   "cell_type": "code",
   "execution_count": 18,
   "metadata": {},
   "outputs": [],
   "source": [
    "inches = page_soup.findAll(\"div\",class_ = \"_3ULzGw\")"
   ]
  },
  {
   "cell_type": "code",
   "execution_count": 19,
   "metadata": {},
   "outputs": [],
   "source": [
    "#inches"
   ]
  },
  {
   "cell_type": "code",
   "execution_count": 21,
   "metadata": {},
   "outputs": [],
   "source": [
    "warrenty = page_soup.findAll(\"div\",class_ = \"_3ULzGw\")\n",
    "#warrenty"
   ]
  },
  {
   "cell_type": "code",
   "execution_count": 23,
   "metadata": {},
   "outputs": [],
   "source": [
    "Product_Name =  []\n",
    "Price = []\n",
    "Ram = []\n",
    "Rom = []\n",
    "Inches = []\n",
    "Processor = []\n",
    "Warrenty = []\n",
    "Rare_Camera = []\n",
    "Front_Camera = []\n",
    " \n",
    "    \n",
    "for i in containers:\n",
    "    data =  i.text\n",
    "    Product_Name.append(data)\n",
    "    \n",
    "for i in price:\n",
    "    data = i.text\n",
    "    z=data.replace(\"₹\",\"\")    \n",
    "    p = z.replace(\",\",\"\")\n",
    "    Price.append(p)\n",
    "      \n",
    "    \n",
    "for i in ram:\n",
    "    data = i.text\n",
    "    Ram.append(data[0])\n",
    "    \n",
    "   \n",
    "    ##### ROM #####\n",
    "    take = re.findall(r'(\\d+) GB ROM',data)\n",
    "    Rom.append(take)\n",
    "    \n",
    "    \n",
    "    \n",
    "########## INCHES ######\n",
    "    inc = re.findall(r'(\\d.\\d+) inch',data)\n",
    "    Inches.append(inc)    \n",
    "    \n",
    "    \n",
    " ####### Processor ###############\n",
    "    pr = re.findall(r'(\\d+) Processor',data)\n",
    "    Processor.append(pr)\n",
    "    \n",
    "############ Warrenty #############\n",
    "    wr = re.findall(r'(\\d) Year',data)\n",
    "    Warrenty.append(wr)\n",
    "    \n",
    "    \n",
    "   \n",
    "############## RARE _ CAMERA #####    \n",
    "    RC = re.findall(r'(\\d+)MP Rear Camera',data)\n",
    "    Rare_Camera.append(RC)\n",
    "           \n",
    "################ Front _ CAMERA ############\n",
    "    FC = re.findall(r'(\\d+)MP Front Camera',data)\n",
    "    Front_Camera.append(FC)\n",
    "        \n"
   ]
  },
  {
   "cell_type": "code",
   "execution_count": 24,
   "metadata": {},
   "outputs": [],
   "source": [
    "#Rom"
   ]
  },
  {
   "cell_type": "code",
   "execution_count": 25,
   "metadata": {},
   "outputs": [],
   "source": [
    "df = pd.DataFrame()"
   ]
  },
  {
   "cell_type": "code",
   "execution_count": 26,
   "metadata": {
    "scrolled": true
   },
   "outputs": [],
   "source": [
    "df[\"Product_Name\"] = Product_Name\n",
    "df[\"Price\"] = Price\n",
    "df[\"Ram\"] = Ram\n",
    "df[\"Rom\"] = Rom\n",
    "df[\"Inches\"] = Inches\n",
    "df[\"Processor\"] = Processor\n",
    "df[\"Rare_Camera\"] = Rare_Camera\n",
    "df[\"Front_Camera\"] = Front_Camera\n",
    "df[\"Warrenty\"] = Warrenty"
   ]
  },
  {
   "cell_type": "code",
   "execution_count": 28,
   "metadata": {},
   "outputs": [],
   "source": [
    "df['Price'] = df['Price'].astype(int)"
   ]
  },
  {
   "cell_type": "code",
   "execution_count": 30,
   "metadata": {},
   "outputs": [],
   "source": [
    "Rom=str(Rom)"
   ]
  },
  {
   "cell_type": "code",
   "execution_count": 31,
   "metadata": {},
   "outputs": [],
   "source": [
    "Rom = Rom.replace(\" []\",\"0\")"
   ]
  },
  {
   "cell_type": "code",
   "execution_count": 33,
   "metadata": {},
   "outputs": [],
   "source": [
    "df[\"Ram\"] = df[\"Ram\"].astype(int)"
   ]
  },
  {
   "cell_type": "code",
   "execution_count": 35,
   "metadata": {},
   "outputs": [],
   "source": [
    "a = Rom.split(',')\n",
    "import re\n",
    "Final= re.findall(r'\\d+',str(a))"
   ]
  },
  {
   "cell_type": "code",
   "execution_count": 38,
   "metadata": {},
   "outputs": [],
   "source": [
    "df[\"Ram\"] = df[\"Ram\"].replace(\"N\",\"0\")\n",
    "df[\"Ram\"] = df[\"Ram\"].replace(\"E\",\"0\")"
   ]
  },
  {
   "cell_type": "code",
   "execution_count": 44,
   "metadata": {},
   "outputs": [],
   "source": [
    "inc = str(Inches).replace('[]','[\"0.0\"]')"
   ]
  },
  {
   "cell_type": "code",
   "execution_count": 45,
   "metadata": {},
   "outputs": [],
   "source": [
    "a = re.findall(r'(\\d.\\d)',inc)     # inches\n"
   ]
  },
  {
   "cell_type": "code",
   "execution_count": 47,
   "metadata": {},
   "outputs": [],
   "source": [
    "pro = str(Processor).replace('[]','[\"0\"]')   # processor\n",
    "#pro "
   ]
  },
  {
   "cell_type": "code",
   "execution_count": 48,
   "metadata": {},
   "outputs": [],
   "source": [
    "i = re.findall(r'(\\d+)',pro)     # inches\n",
    "#i"
   ]
  },
  {
   "cell_type": "markdown",
   "metadata": {},
   "source": [
    "Rare_Camera             object\n",
    "Front_Camera            object\n",
    "Warrenty                object\n",
    "Accessories_warrenty"
   ]
  },
  {
   "cell_type": "code",
   "execution_count": 49,
   "metadata": {},
   "outputs": [],
   "source": [
    "#Rare_Camera"
   ]
  },
  {
   "cell_type": "code",
   "execution_count": 50,
   "metadata": {},
   "outputs": [],
   "source": [
    "rare = str(Rare_Camera).replace('[]','[\"0\"]')\n",
    "#rare"
   ]
  },
  {
   "cell_type": "code",
   "execution_count": 51,
   "metadata": {},
   "outputs": [],
   "source": [
    "r = re.findall(r'(\\d+)',rare)     # rare\n",
    "#r"
   ]
  },
  {
   "cell_type": "code",
   "execution_count": 52,
   "metadata": {},
   "outputs": [],
   "source": [
    "#Front_Camera"
   ]
  },
  {
   "cell_type": "code",
   "execution_count": 53,
   "metadata": {},
   "outputs": [],
   "source": [
    "front = str(Front_Camera).replace('[]','[\"0\"]')\n",
    "#front"
   ]
  },
  {
   "cell_type": "code",
   "execution_count": 54,
   "metadata": {},
   "outputs": [],
   "source": [
    "f = re.findall(r'(\\d+)',front)     # front Camera\n",
    "#f\n",
    "#len(f)"
   ]
  },
  {
   "cell_type": "code",
   "execution_count": 55,
   "metadata": {},
   "outputs": [],
   "source": [
    "#Warrenty"
   ]
  },
  {
   "cell_type": "code",
   "execution_count": 56,
   "metadata": {},
   "outputs": [],
   "source": [
    "warre= str(Warrenty).replace('[]','[\"0\"]')\n",
    "#warre\n",
    "#len(warre)"
   ]
  },
  {
   "cell_type": "code",
   "execution_count": 57,
   "metadata": {},
   "outputs": [],
   "source": [
    "w = re.findall(r'(\\d+)',warre)     # warrenty\n",
    "#w"
   ]
  },
  {
   "cell_type": "code",
   "execution_count": 62,
   "metadata": {},
   "outputs": [
    {
     "data": {
      "text/html": [
       "<div>\n",
       "<style scoped>\n",
       "    .dataframe tbody tr th:only-of-type {\n",
       "        vertical-align: middle;\n",
       "    }\n",
       "\n",
       "    .dataframe tbody tr th {\n",
       "        vertical-align: top;\n",
       "    }\n",
       "\n",
       "    .dataframe thead th {\n",
       "        text-align: right;\n",
       "    }\n",
       "</style>\n",
       "<table border=\"1\" class=\"dataframe\">\n",
       "  <thead>\n",
       "    <tr style=\"text-align: right;\">\n",
       "      <th></th>\n",
       "      <th>Product_Name</th>\n",
       "      <th>Price</th>\n",
       "      <th>Ram</th>\n",
       "      <th>Rom</th>\n",
       "      <th>Inches</th>\n",
       "      <th>Processor</th>\n",
       "      <th>Rare_Camera</th>\n",
       "      <th>Front_Camera</th>\n",
       "      <th>Warrenty</th>\n",
       "    </tr>\n",
       "  </thead>\n",
       "  <tbody>\n",
       "    <tr>\n",
       "      <th>0</th>\n",
       "      <td>Samsung Galaxy J4 (Gold, 16 GB)</td>\n",
       "      <td>8590</td>\n",
       "      <td>2</td>\n",
       "      <td>16</td>\n",
       "      <td>5.5</td>\n",
       "      <td>7570</td>\n",
       "      <td>13</td>\n",
       "      <td>5</td>\n",
       "      <td>1</td>\n",
       "    </tr>\n",
       "    <tr>\n",
       "      <th>1</th>\n",
       "      <td>Samsung Guru GT</td>\n",
       "      <td>1410</td>\n",
       "      <td>1</td>\n",
       "      <td>0</td>\n",
       "      <td>1.5</td>\n",
       "      <td>0</td>\n",
       "      <td>0</td>\n",
       "      <td>0</td>\n",
       "      <td>1</td>\n",
       "    </tr>\n",
       "    <tr>\n",
       "      <th>2</th>\n",
       "      <td>Samsung Galaxy J2 Core (Black, 8 GB)</td>\n",
       "      <td>6200</td>\n",
       "      <td>1</td>\n",
       "      <td>8</td>\n",
       "      <td>0.0</td>\n",
       "      <td>7570</td>\n",
       "      <td>8</td>\n",
       "      <td>5</td>\n",
       "      <td>1</td>\n",
       "    </tr>\n",
       "    <tr>\n",
       "      <th>3</th>\n",
       "      <td>Samsung Galaxy J2 Core (Gold, 8 GB)</td>\n",
       "      <td>6190</td>\n",
       "      <td>1</td>\n",
       "      <td>8</td>\n",
       "      <td>0.0</td>\n",
       "      <td>7570</td>\n",
       "      <td>8</td>\n",
       "      <td>5</td>\n",
       "      <td>1</td>\n",
       "    </tr>\n",
       "    <tr>\n",
       "      <th>4</th>\n",
       "      <td>Samsung Galaxy On6 (Blue, 64 GB)</td>\n",
       "      <td>11990</td>\n",
       "      <td>4</td>\n",
       "      <td>64</td>\n",
       "      <td>5.6</td>\n",
       "      <td>0</td>\n",
       "      <td>13</td>\n",
       "      <td>8</td>\n",
       "      <td>1</td>\n",
       "    </tr>\n",
       "    <tr>\n",
       "      <th>5</th>\n",
       "      <td>Samsung Galaxy J6 (Blue, 32 GB)</td>\n",
       "      <td>10490</td>\n",
       "      <td>3</td>\n",
       "      <td>32</td>\n",
       "      <td>5.6</td>\n",
       "      <td>7870</td>\n",
       "      <td>13</td>\n",
       "      <td>8</td>\n",
       "      <td>1</td>\n",
       "    </tr>\n",
       "    <tr>\n",
       "      <th>6</th>\n",
       "      <td>Samsung Metro 313</td>\n",
       "      <td>2149</td>\n",
       "      <td>5</td>\n",
       "      <td>0</td>\n",
       "      <td>0.0</td>\n",
       "      <td>0</td>\n",
       "      <td>3</td>\n",
       "      <td>0</td>\n",
       "      <td>1</td>\n",
       "    </tr>\n",
       "    <tr>\n",
       "      <th>7</th>\n",
       "      <td>Samsung Galaxy J7 Prime (Black, 16 GB)</td>\n",
       "      <td>18328</td>\n",
       "      <td>3</td>\n",
       "      <td>16</td>\n",
       "      <td>5.5</td>\n",
       "      <td>0</td>\n",
       "      <td>13</td>\n",
       "      <td>8</td>\n",
       "      <td>1</td>\n",
       "    </tr>\n",
       "    <tr>\n",
       "      <th>8</th>\n",
       "      <td>Samsung Metro 313</td>\n",
       "      <td>2050</td>\n",
       "      <td>4</td>\n",
       "      <td>0</td>\n",
       "      <td>2.0</td>\n",
       "      <td>0</td>\n",
       "      <td>3</td>\n",
       "      <td>0</td>\n",
       "      <td>1</td>\n",
       "    </tr>\n",
       "    <tr>\n",
       "      <th>9</th>\n",
       "      <td>Samsung Guru FM Plus</td>\n",
       "      <td>1580</td>\n",
       "      <td>3</td>\n",
       "      <td>0</td>\n",
       "      <td>1.5</td>\n",
       "      <td>0</td>\n",
       "      <td>0</td>\n",
       "      <td>0</td>\n",
       "      <td>1</td>\n",
       "    </tr>\n",
       "    <tr>\n",
       "      <th>10</th>\n",
       "      <td>Samsung Galaxy J2 2018 (Black, 16 GB)</td>\n",
       "      <td>6799</td>\n",
       "      <td>2</td>\n",
       "      <td>16</td>\n",
       "      <td>0.0</td>\n",
       "      <td>425</td>\n",
       "      <td>8</td>\n",
       "      <td>5</td>\n",
       "      <td>1</td>\n",
       "    </tr>\n",
       "    <tr>\n",
       "      <th>11</th>\n",
       "      <td>Samsung Galaxy J5 Prime (Gold, 16 GB)</td>\n",
       "      <td>14500</td>\n",
       "      <td>2</td>\n",
       "      <td>16</td>\n",
       "      <td>0.0</td>\n",
       "      <td>0</td>\n",
       "      <td>13</td>\n",
       "      <td>5</td>\n",
       "      <td>1</td>\n",
       "    </tr>\n",
       "    <tr>\n",
       "      <th>12</th>\n",
       "      <td>Samsung Galaxy J2 Core (Blue, 8 GB)</td>\n",
       "      <td>6190</td>\n",
       "      <td>1</td>\n",
       "      <td>8</td>\n",
       "      <td>0.0</td>\n",
       "      <td>7570</td>\n",
       "      <td>8</td>\n",
       "      <td>5</td>\n",
       "      <td>1</td>\n",
       "    </tr>\n",
       "    <tr>\n",
       "      <th>13</th>\n",
       "      <td>Samsung Galaxy J8 (Gold, 64 GB)</td>\n",
       "      <td>15499</td>\n",
       "      <td>4</td>\n",
       "      <td>64</td>\n",
       "      <td>0.0</td>\n",
       "      <td>450</td>\n",
       "      <td>0</td>\n",
       "      <td>16</td>\n",
       "      <td>1</td>\n",
       "    </tr>\n",
       "    <tr>\n",
       "      <th>14</th>\n",
       "      <td>Samsung B351E/Metro 350</td>\n",
       "      <td>2990</td>\n",
       "      <td>3</td>\n",
       "      <td>0</td>\n",
       "      <td>2.4</td>\n",
       "      <td>0</td>\n",
       "      <td>2</td>\n",
       "      <td>0</td>\n",
       "      <td>1</td>\n",
       "    </tr>\n",
       "    <tr>\n",
       "      <th>15</th>\n",
       "      <td>Samsung Galaxy J8 (Blue, 64 GB)</td>\n",
       "      <td>15499</td>\n",
       "      <td>4</td>\n",
       "      <td>64</td>\n",
       "      <td>0.0</td>\n",
       "      <td>450</td>\n",
       "      <td>0</td>\n",
       "      <td>16</td>\n",
       "      <td>1</td>\n",
       "    </tr>\n",
       "    <tr>\n",
       "      <th>16</th>\n",
       "      <td>Samsung Galaxy On8 (Black, 64 GB)</td>\n",
       "      <td>16990</td>\n",
       "      <td>4</td>\n",
       "      <td>64</td>\n",
       "      <td>0.0</td>\n",
       "      <td>450</td>\n",
       "      <td>0</td>\n",
       "      <td>16</td>\n",
       "      <td>1</td>\n",
       "    </tr>\n",
       "    <tr>\n",
       "      <th>17</th>\n",
       "      <td>Samsung Metro 313</td>\n",
       "      <td>2340</td>\n",
       "      <td>2</td>\n",
       "      <td>0</td>\n",
       "      <td>0.0</td>\n",
       "      <td>0</td>\n",
       "      <td>3</td>\n",
       "      <td>0</td>\n",
       "      <td>1</td>\n",
       "    </tr>\n",
       "    <tr>\n",
       "      <th>18</th>\n",
       "      <td>Samsung Galaxy J2 (White, 8 GB)</td>\n",
       "      <td>6799</td>\n",
       "      <td>1</td>\n",
       "      <td>8</td>\n",
       "      <td>4.7</td>\n",
       "      <td>0</td>\n",
       "      <td>5</td>\n",
       "      <td>2</td>\n",
       "      <td>1</td>\n",
       "    </tr>\n",
       "    <tr>\n",
       "      <th>19</th>\n",
       "      <td>Samsung Galaxy J2-2017 (Absolute black, 8 GB)</td>\n",
       "      <td>6000</td>\n",
       "      <td>1</td>\n",
       "      <td>8</td>\n",
       "      <td>4.7</td>\n",
       "      <td>0</td>\n",
       "      <td>5</td>\n",
       "      <td>2</td>\n",
       "      <td>1</td>\n",
       "    </tr>\n",
       "    <tr>\n",
       "      <th>20</th>\n",
       "      <td>Samsung Galaxy J7 Prime 2 (Black, 32 GB)</td>\n",
       "      <td>14990</td>\n",
       "      <td>3</td>\n",
       "      <td>32</td>\n",
       "      <td>5.5</td>\n",
       "      <td>0</td>\n",
       "      <td>13</td>\n",
       "      <td>13</td>\n",
       "      <td>1</td>\n",
       "    </tr>\n",
       "    <tr>\n",
       "      <th>21</th>\n",
       "      <td>Samsung A6 (Gold, 32 GB)</td>\n",
       "      <td>19999</td>\n",
       "      <td>4</td>\n",
       "      <td>32</td>\n",
       "      <td>5.6</td>\n",
       "      <td>0</td>\n",
       "      <td>16</td>\n",
       "      <td>0</td>\n",
       "      <td>0</td>\n",
       "    </tr>\n",
       "    <tr>\n",
       "      <th>22</th>\n",
       "      <td>Samsung Galaxy J5 Prime (Black, 32 GB)</td>\n",
       "      <td>13500</td>\n",
       "      <td>3</td>\n",
       "      <td>32</td>\n",
       "      <td>0.0</td>\n",
       "      <td>0</td>\n",
       "      <td>13</td>\n",
       "      <td>5</td>\n",
       "      <td>1</td>\n",
       "    </tr>\n",
       "    <tr>\n",
       "      <th>23</th>\n",
       "      <td>Samsung Metro 350</td>\n",
       "      <td>3007</td>\n",
       "      <td>4</td>\n",
       "      <td>0</td>\n",
       "      <td>2.2</td>\n",
       "      <td>0</td>\n",
       "      <td>2</td>\n",
       "      <td>0</td>\n",
       "      <td>1</td>\n",
       "    </tr>\n",
       "  </tbody>\n",
       "</table>\n",
       "</div>"
      ],
      "text/plain": [
       "                                     Product_Name  Price Ram Rom Inches  \\\n",
       "0                 Samsung Galaxy J4 (Gold, 16 GB)   8590   2  16    5.5   \n",
       "1                                 Samsung Guru GT   1410   1   0    1.5   \n",
       "2            Samsung Galaxy J2 Core (Black, 8 GB)   6200   1   8    0.0   \n",
       "3             Samsung Galaxy J2 Core (Gold, 8 GB)   6190   1   8    0.0   \n",
       "4                Samsung Galaxy On6 (Blue, 64 GB)  11990   4  64    5.6   \n",
       "5                 Samsung Galaxy J6 (Blue, 32 GB)  10490   3  32    5.6   \n",
       "6                               Samsung Metro 313   2149   5   0    0.0   \n",
       "7          Samsung Galaxy J7 Prime (Black, 16 GB)  18328   3  16    5.5   \n",
       "8                               Samsung Metro 313   2050   4   0    2.0   \n",
       "9                            Samsung Guru FM Plus   1580   3   0    1.5   \n",
       "10          Samsung Galaxy J2 2018 (Black, 16 GB)   6799   2  16    0.0   \n",
       "11          Samsung Galaxy J5 Prime (Gold, 16 GB)  14500   2  16    0.0   \n",
       "12            Samsung Galaxy J2 Core (Blue, 8 GB)   6190   1   8    0.0   \n",
       "13                Samsung Galaxy J8 (Gold, 64 GB)  15499   4  64    0.0   \n",
       "14                        Samsung B351E/Metro 350   2990   3   0    2.4   \n",
       "15                Samsung Galaxy J8 (Blue, 64 GB)  15499   4  64    0.0   \n",
       "16              Samsung Galaxy On8 (Black, 64 GB)  16990   4  64    0.0   \n",
       "17                              Samsung Metro 313   2340   2   0    0.0   \n",
       "18                Samsung Galaxy J2 (White, 8 GB)   6799   1   8    4.7   \n",
       "19  Samsung Galaxy J2-2017 (Absolute black, 8 GB)   6000   1   8    4.7   \n",
       "20       Samsung Galaxy J7 Prime 2 (Black, 32 GB)  14990   3  32    5.5   \n",
       "21                       Samsung A6 (Gold, 32 GB)  19999   4  32    5.6   \n",
       "22         Samsung Galaxy J5 Prime (Black, 32 GB)  13500   3  32    0.0   \n",
       "23                              Samsung Metro 350   3007   4   0    2.2   \n",
       "\n",
       "   Processor Rare_Camera Front_Camera Warrenty  \n",
       "0       7570          13            5        1  \n",
       "1          0           0            0        1  \n",
       "2       7570           8            5        1  \n",
       "3       7570           8            5        1  \n",
       "4          0          13            8        1  \n",
       "5       7870          13            8        1  \n",
       "6          0           3            0        1  \n",
       "7          0          13            8        1  \n",
       "8          0           3            0        1  \n",
       "9          0           0            0        1  \n",
       "10       425           8            5        1  \n",
       "11         0          13            5        1  \n",
       "12      7570           8            5        1  \n",
       "13       450           0           16        1  \n",
       "14         0           2            0        1  \n",
       "15       450           0           16        1  \n",
       "16       450           0           16        1  \n",
       "17         0           3            0        1  \n",
       "18         0           5            2        1  \n",
       "19         0           5            2        1  \n",
       "20         0          13           13        1  \n",
       "21         0          16            0        0  \n",
       "22         0          13            5        1  \n",
       "23         0           2            0        1  "
      ]
     },
     "execution_count": 62,
     "metadata": {},
     "output_type": "execute_result"
    }
   ],
   "source": [
    "df= pd.DataFrame({'Product_Name':Product_Name,'Price':Price,'Ram':Ram,'Rom':Final,'Inches':a, 'Processor':i,'Rare_Camera':r,'Front_Camera':f,'Warrenty':w})\n",
    "df"
   ]
  },
  {
   "cell_type": "markdown",
   "metadata": {},
   "source": [
    "# all pages\n",
    "urls = []\n",
    "for i in range (1,):\n",
    "    a = list(page)  # or url # url defined name \n",
    "    a[-1] = str(i)\n",
    "    urls.append(''.join(a))"
   ]
  },
  {
   "cell_type": "code",
   "execution_count": 63,
   "metadata": {},
   "outputs": [],
   "source": [
    "#df.to_csv('B:/work/mobile4.csv',index=False)"
   ]
  }
 ],
 "metadata": {
  "kernelspec": {
   "display_name": "Python 3",
   "language": "python",
   "name": "python3"
  },
  "language_info": {
   "codemirror_mode": {
    "name": "ipython",
    "version": 3
   },
   "file_extension": ".py",
   "mimetype": "text/x-python",
   "name": "python",
   "nbconvert_exporter": "python",
   "pygments_lexer": "ipython3",
   "version": "3.7.3"
  }
 },
 "nbformat": 4,
 "nbformat_minor": 2
}
